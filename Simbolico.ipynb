{
 "cells": [
  {
   "cell_type": "code",
   "execution_count": 3,
   "id": "23ac11ac",
   "metadata": {},
   "outputs": [],
   "source": [
    "import sympy as sp\n",
    "import numpy as np\n",
    "\n",
    "# TODO ESTE CHUNCK ES UN EJEMPLO\n",
    "# Instrucciones básicas de como usar sympy:\n",
    "# Primero tenemos que declarar nuestras variables simbólicas\n",
    "x, y, z = sp.symbols('x y z')\n",
    "\n",
    "# Luego definimos funciones con ellas\n",
    "fun = (x-2)**2 + (y-3)**2 + (z-1)**2\n",
    "\n",
    "# El gradiente se hace de esta forma\n",
    "grad = [sp.diff(fun, x), sp.diff(fun, y), sp.diff(fun, z)]\n",
    "\n",
    "# Podemos evaluar la función de esta forma\n",
    "fun_789 = fun.subs({x:7, y:8, y:9})\n",
    "\n",
    "# Podemos evaluar el gradiente de esta otra forma forma\n",
    "grad_789 = [valor.subs({x: 7, y: 8, z:9}) for valor in grad]\n",
    "\n",
    "# Los vectores no son dados horizontales, para trabajar con ellos, a veces hay que trasponerlos\n",
    "# Lo primero que hacemos es convertilos en matrices con numpy, y luego los trasponemos\n",
    "eval_grad_array = np.array(grad_789)\n",
    "grad_789_v = eval_grad_array[:, np.newaxis]\n",
    "grad_789_h = grad_789_v.T"
   ]
  }
 ],
 "metadata": {
  "kernelspec": {
   "display_name": "Python 3 (ipykernel)",
   "language": "python",
   "name": "python3"
  },
  "language_info": {
   "codemirror_mode": {
    "name": "ipython",
    "version": 3
   },
   "file_extension": ".py",
   "mimetype": "text/x-python",
   "name": "python",
   "nbconvert_exporter": "python",
   "pygments_lexer": "ipython3",
   "version": "3.11.4"
  }
 },
 "nbformat": 4,
 "nbformat_minor": 5
}
